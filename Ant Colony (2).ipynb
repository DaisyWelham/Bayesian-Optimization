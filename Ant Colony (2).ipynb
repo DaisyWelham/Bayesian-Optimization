{
 "cells": [
  {
   "cell_type": "markdown",
   "id": "c61a087f",
   "metadata": {},
   "source": [
    "# Ant Colony"
   ]
  },
  {
   "cell_type": "markdown",
   "id": "69f57270",
   "metadata": {},
   "source": [
    "Ant Colony optimization (ACO) is an algorithm used to solve combinatorial problem, such as the travelling salesman problem: suppose we must vist some cities and can do it in any order, what is the best way to travel between the cities so we minimize journey time?\n",
    "\n",
    "The \"ants\" starts at random cities and leave \"pheremone\" trails, the more ants go a partiular route the more strong the pheremones, and the stronger the pheremones the more ants will travel that way. Eventually, we are left with a single trail of pheremones which represents the optimal solution found by ACO. "
   ]
  },
  {
   "cell_type": "code",
   "execution_count": 1,
   "id": "97550bed",
   "metadata": {},
   "outputs": [],
   "source": [
    "import random as r\n",
    "import numpy as np\n",
    "r.seed(1)"
   ]
  },
  {
   "cell_type": "markdown",
   "id": "ba0d4c7a",
   "metadata": {},
   "source": [
    "## Objective Functions"
   ]
  },
  {
   "cell_type": "markdown",
   "id": "ec98247c",
   "metadata": {},
   "source": [
    "In this notebook we'll test the semi-empirical mass formula. It's a formula from physics which gives us the binding energy of a nucleus given its proton number, Z, and neutron number, N. Since physics is effectively trying to maximise the binding energy per nucleon, we have a fun optimization problem if we divide the energy predicted by the SEMF by Z + N. You can play around with physics and see which isotopes would be stable if you changed, say, the Coulomb term! \n",
    "\n",
    "SEMF is also useful since it has a known best result of Nickel-62: Z = 28, N = 34. The closer the output is to this, the better our algorithm is doing. Another very stable isotope is Iron-56: Z = 26, N = 30, so if we get a result close to this the algorithm has done well, too.\n",
    "\n",
    "More about the SEMF here: https://en.wikipedia.org/wiki/Semi-empirical_mass_formula\n",
    "\n",
    "If you want a different objective function, check out Objectives.ipynb."
   ]
  },
  {
   "cell_type": "code",
   "execution_count": 2,
   "id": "57a56725",
   "metadata": {},
   "outputs": [
    {
     "name": "stdout",
     "output_type": "stream",
     "text": [
      "1208.0131349320782\n"
     ]
    }
   ],
   "source": [
    "nCities = 25\n",
    "\n",
    "def generateCity():\n",
    "    return(r.uniform(0, 100), r.uniform(0, 100))\n",
    "\n",
    "def calculateDistance(city1, city2):\n",
    "    output = 0\n",
    "    for x, y in city1, city2:\n",
    "        output += (x - y) ** 2\n",
    "    output = output ** 0.5\n",
    "    return(output)\n",
    "\n",
    "citySet = []\n",
    "for i in range(nCities):\n",
    "    citySet.append(generateCity())\n",
    "\n",
    "def loss(cityOrdering):\n",
    "    output = 0\n",
    "    for i in range(len(citySet) - 1):\n",
    "        output += calculateDistance(citySet[cityOrdering[i]], citySet[cityOrdering[i + 1]]) \n",
    "    return(output)\n",
    "\n",
    "print(loss([x for x in range(nCities)]))"
   ]
  },
  {
   "cell_type": "markdown",
   "id": "1f711a11",
   "metadata": {},
   "source": [
    "## Ant Colony"
   ]
  },
  {
   "cell_type": "code",
   "execution_count": 30,
   "id": "71c405be",
   "metadata": {
    "scrolled": true
   },
   "outputs": [
    {
     "name": "stdout",
     "output_type": "stream",
     "text": [
      "[0, 0, 0, 0, 0, 0, 0, 0, 0, 0, 0, 0, 0, 0, 0, 1, 0, 0, 0, 0, 0, 0, 0, 0, 0]\n",
      "[0, 0, 0, 0, 0, 0, 0, 0, 0, 0, 0, 0, 0, 0, 0, 0, 0, 0, 0, 0, 0, 0, 0, 0, 1]\n",
      "[0, 0, 0, 0, 1, 0, 0, 0, 0, 0, 0, 0, 0, 0, 0, 0, 0, 0, 0, 0, 0, 0, 0, 0, 0]\n",
      "[0, 0, 0, 0, 0, 0, 0, 0, 0, 0, 0, 0, 0, 0, 1, 0, 0, 0, 0, 0, 0, 0, 0, 0, 0]\n",
      "[0, 0, 0, 0, 0, 0, 0, 0, 0, 0, 0, 0, 1, 0, 0, 0, 0, 0, 0, 0, 0, 0, 0, 0, 0]\n",
      "[0, 0, 0, 0, 0, 0, 0, 0, 0, 0, 0, 0, 0, 0, 0, 1, 0, 0, 0, 0, 0, 0, 0, 0, 0]\n",
      "[0, 0, 0, 0, 0, 0, 0, 0, 0, 0, 1, 0, 0, 0, 0, 0, 0, 0, 0, 0, 0, 0, 0, 0, 0]\n",
      "[0, 0, 0, 0, 0, 0, 0, 0, 0, 0, 0, 1, 0, 0, 0, 0, 0, 0, 0, 0, 0, 0, 0, 0, 0]\n",
      "[0, 0, 0, 0, 0, 0, 0, 0, 0, 0, 0, 0, 0, 0, 0, 0, 0, 0, 1, 0, 0, 0, 0, 0, 0]\n",
      "[0, 0, 0, 0, 0, 0, 0, 1, 0, 0, 0, 0, 0, 0, 0, 0, 0, 0, 0, 0, 0, 0, 0, 0, 0]\n",
      "[0, 0, 0, 0, 0, 0, 0, 1, 0, 0, 0, 0, 0, 0, 0, 0, 0, 0, 0, 0, 0, 0, 0, 0, 0]\n",
      "[0, 0, 0, 0, 0, 0, 0, 0, 1, 0, 0, 0, 0, 0, 0, 0, 0, 0, 0, 0, 0, 0, 0, 0, 0]\n",
      "[0, 0, 0, 0, 0, 0, 0, 0, 0, 0, 0, 0, 0, 0, 1, 0, 0, 0, 0, 0, 0, 0, 0, 0, 0]\n",
      "[1, 0, 0, 0, 0, 0, 0, 0, 0, 0, 0, 0, 0, 0, 0, 0, 0, 0, 0, 0, 0, 0, 0, 0, 0]\n",
      "[0, 0, 0, 0, 0, 0, 0, 0, 0, 0, 0, 0, 0, 0, 0, 0, 0, 0, 0, 0, 0, 0, 0, 0, 1]\n",
      "[0, 0, 0, 0, 0, 0, 0, 0, 0, 0, 0, 0, 0, 0, 0, 0, 0, 0, 0, 0, 1, 0, 0, 0, 0]\n",
      "[0, 0, 0, 0, 0, 0, 0, 0, 0, 0, 0, 0, 0, 1, 0, 0, 0, 0, 0, 0, 0, 0, 0, 0, 0]\n",
      "[1, 0, 0, 0, 0, 0, 0, 0, 0, 0, 0, 0, 0, 0, 0, 0, 0, 0, 0, 0, 0, 0, 0, 0, 0]\n",
      "[0, 0, 0, 0, 0, 0, 0, 0, 1, 0, 0, 0, 0, 0, 0, 0, 0, 0, 0, 0, 0, 0, 0, 0, 0]\n",
      "[0, 0, 0, 0, 0, 1, 0, 0, 0, 0, 0, 0, 0, 0, 0, 0, 0, 0, 0, 0, 0, 0, 0, 0, 0]\n",
      "[0, 0, 1, 0, 0, 0, 0, 0, 0, 0, 0, 0, 0, 0, 0, 0, 0, 0, 0, 0, 0, 0, 0, 0, 0]\n",
      "[0, 0, 0, 0, 0, 0, 0, 0, 0, 0, 0, 0, 0, 0, 0, 0, 0, 0, 0, 1, 0, 0, 0, 0, 0]\n",
      "[0, 1, 0, 0, 0, 0, 0, 0, 0, 0, 0, 0, 0, 0, 0, 0, 0, 0, 0, 0, 0, 0, 0, 0, 0]\n",
      "[0, 0, 1, 0, 0, 0, 0, 0, 0, 0, 0, 0, 0, 0, 0, 0, 0, 0, 0, 0, 0, 0, 0, 0, 0]\n",
      "[0, 0, 0, 0, 0, 0, 0, 0, 0, 0, 0, 0, 0, 0, 0, 0, 0, 0, 0, 0, 0, 1, 0, 0, 0]\n"
     ]
    }
   ],
   "source": [
    "class Ant:\n",
    "    def __init__(self,\n",
    "                citySet,\n",
    "                colony):\n",
    "        self.cities = citySet\n",
    "        self.location = r.randint(0, len(self.cities) - 1)\n",
    "        self.destination = r.randint(0, len(self.cities) - 1)\n",
    "        while self.destination == self.location:\n",
    "            self.destination = r.randint(0, len(self.cities) - 1)\n",
    "        self.distanceToDestination = calculateDistance(citySet[self.location], citySet[self.destination])\n",
    "        self.colony = colony\n",
    "\n",
    "    def updateAntOneEpisode(self, antSpeed = 1):\n",
    "        self.distanceToDestination -= antSpeed\n",
    "        if self.distanceToDestination < 0:\n",
    "            self.sendPheremones(self.location, self.destination)\n",
    "            self.location = self.selectNewDestination()\n",
    "            while self.destination == self.location:\n",
    "                self.destination = r.randint(0, len(self.cities) - 1)\n",
    "            self.distanceToDestination = calculateDistance(citySet[self.location], citySet[self.destination])\n",
    "\n",
    "    #Increase the pheremones from x to y\n",
    "    def sendPheremones(self, x, y):\n",
    "        self.colony.pheremoneMatrix[x][y] += 100\n",
    "        magnitude = np.sum(self.colony.pheremoneMatrix[x])\n",
    "        self.colony.pheremoneMatrix[x] = [(c / magnitude) for c in self.colony.pheremoneMatrix[x]]\n",
    "        return(self.colony.pheremoneMatrix)\n",
    "\n",
    "    def selectNewDestination(self):\n",
    "        prob = r.uniform(0, 1)\n",
    "        i = -1\n",
    "        while prob > 0:\n",
    "            i += 1\n",
    "            prob -= self.colony.pheremoneMatrix[self.location][i]\n",
    "        return(i)\n",
    "            \n",
    "\n",
    "class AntColony:\n",
    "    def __init__(\n",
    "        self,\n",
    "        cities\n",
    "    ):\n",
    "        self.cities = cities\n",
    "        self.antLocations = [Ant(cities, self) for i in range(len(self.cities) - 1)]\n",
    "        self.pheremoneMatrix = self.generatePheremoneMatrix()\n",
    "\n",
    "    def generatePheremoneMatrix(self):\n",
    "        output = []\n",
    "        for i in range(len(self.cities)):\n",
    "            row = []\n",
    "            for j in range(len(self.cities)):\n",
    "                row.append((1/len(self.cities)))\n",
    "            output.append(row)\n",
    "        return(output)\n",
    "        \n",
    "    def optimize(self, numIterations = 25000):\n",
    "        for i in range(numIterations):\n",
    "            for ant in self.antLocations:\n",
    "                ant.updateAntOneEpisode()\n",
    "        return(self.pheremoneMatrix)\n",
    "\n",
    "    def interpretPheremones(self):\n",
    "        output = []\n",
    "        for x in self.pheremoneMatrix:\n",
    "            row = []\n",
    "            for i in x:\n",
    "                if i > 0.9:\n",
    "                    row.append(1)\n",
    "                else:\n",
    "                    row.append(0)\n",
    "            output.append(row)\n",
    "        return(output)\n",
    "ac = AntColony(citySet)\n",
    "ac.optimize()\n",
    "for x in ac.interpretPheremones():\n",
    "    assert(np.sum(x) == 1) #Check solution is valid\n",
    "    print(x)"
   ]
  },
  {
   "cell_type": "code",
   "execution_count": null,
   "id": "a81081d7-a67a-4911-8a16-155a6816a96d",
   "metadata": {},
   "outputs": [],
   "source": []
  }
 ],
 "metadata": {
  "kernelspec": {
   "display_name": "Python 3 (ipykernel)",
   "language": "python",
   "name": "python3"
  },
  "language_info": {
   "codemirror_mode": {
    "name": "ipython",
    "version": 3
   },
   "file_extension": ".py",
   "mimetype": "text/x-python",
   "name": "python",
   "nbconvert_exporter": "python",
   "pygments_lexer": "ipython3",
   "version": "3.10.16"
  }
 },
 "nbformat": 4,
 "nbformat_minor": 5
}
